{
 "cells": [
  {
   "cell_type": "markdown",
   "metadata": {
    "colab_type": "text",
    "id": "view-in-github"
   },
   "source": [
    "<a href=\"https://colab.research.google.com/github/MarcosMota/Siamese-Networks/blob/main/Similarity_Fashion_MNIST.ipynb\" target=\"_parent\"><img src=\"https://colab.research.google.com/assets/colab-badge.svg\" alt=\"Open In Colab\"/></a>"
   ]
  },
  {
   "cell_type": "markdown",
   "metadata": {
    "id": "Hm1YmbDLoP8j"
   },
   "source": [
    "# Ungraded Lab: Implement a Siamese network"
   ]
  },
  {
   "cell_type": "markdown",
   "metadata": {
    "id": "VZX4pLyfoP8p"
   },
   "source": [
    "This lab will go through creating and training a multi-input model. You will build a basic Siamese Network to find the similarity or dissimilarity between items of clothing. For Week 1, you will just focus on constructing the network. You will revisit this lab in Week 2 when we talk about custom loss functions."
   ]
  },
  {
   "cell_type": "markdown",
   "metadata": {
    "id": "IVuJXCvLoP8q"
   },
   "source": [
    "## Imports"
   ]
  },
  {
   "cell_type": "code",
   "execution_count": 1,
   "metadata": {
    "id": "nVHTXTZpkdtM"
   },
   "outputs": [],
   "source": [
    "try:\n",
    "# %tensorflow_version only exists in Colab.\n",
    "  %tensorflow_version 2.x\n",
    "except Exception:\n",
    "  pass\n",
    "\n",
    "import tensorflow as tf\n",
    "from tensorflow.keras.models import Model\n",
    "from tensorflow.keras.layers import Input, Flatten, Dense, Dropout, Lambda\n",
    "from tensorflow.keras.optimizers import RMSprop\n",
    "from tensorflow.keras.datasets import cifar10\n",
    "from tensorflow.python.keras.utils.vis_utils import plot_model\n",
    "from tensorflow.keras import backend as K\n",
    "\n",
    "import numpy as np\n",
    "import matplotlib.pyplot as plt\n",
    "from PIL import Image, ImageFont, ImageDraw\n",
    "import random"
   ]
  },
  {
   "cell_type": "markdown",
   "metadata": {
    "id": "TmeDOmI6oP8r"
   },
   "source": [
    "## Prepare the Dataset\n",
    "\n",
    "First define a few utilities for preparing and visualizing your dataset."
   ]
  },
  {
   "cell_type": "code",
   "execution_count": 2,
   "metadata": {
    "id": "iSQMl9cZkgDx"
   },
   "outputs": [],
   "source": [
    "def create_pairs(x, digit_indices):\n",
    "    '''Positive and negative pair creation.\n",
    "    Alternates between positive and negative pairs.\n",
    "    '''\n",
    "    pairs = []\n",
    "    labels = []\n",
    "    n = min([len(digit_indices[d]) for d in range(10)]) - 1\n",
    "    \n",
    "    for d in range(10):\n",
    "        for i in range(n):\n",
    "            z1, z2 = digit_indices[d][i], digit_indices[d][i + 1]\n",
    "            pairs += [[x[z1], x[z2]]]\n",
    "            inc = random.randrange(1, 10)\n",
    "            dn = (d + inc) % 10\n",
    "            z1, z2 = digit_indices[d][i], digit_indices[dn][i]\n",
    "            pairs += [[x[z1], x[z2]]]\n",
    "            labels += [1, 0]\n",
    "            \n",
    "    return np.array(pairs), np.array(labels)\n",
    "\n",
    "\n",
    "def create_pairs_on_set(images, labels):\n",
    "    \n",
    "    digit_indices = [np.where(labels == i)[0] for i in range(10)]\n",
    "    pairs, y = create_pairs(images, digit_indices)\n",
    "    y = y.astype('float32')\n",
    "    \n",
    "    return pairs, y\n",
    "\n",
    "\n",
    "def show_image(image):\n",
    "    plt.figure()\n",
    "    plt.imshow(image)\n",
    "    plt.colorbar()\n",
    "    plt.grid(False)\n",
    "    plt.show()"
   ]
  },
  {
   "cell_type": "markdown",
   "metadata": {
    "id": "fCx8F_SXoP8s"
   },
   "source": [
    "You can now download and prepare our train and test sets. You will also create pairs of images that will go into the multi-input model."
   ]
  },
  {
   "cell_type": "code",
   "execution_count": null,
   "metadata": {
    "colab": {
     "base_uri": "https://localhost:8080/"
    },
    "id": "ook7lKQakomz",
    "outputId": "461ffb55-5918-4c3a-e45a-7e45ce5dd659"
   },
   "outputs": [
    {
     "name": "stdout",
     "output_type": "stream",
     "text": [
      "Downloading data from https://www.cs.toronto.edu/~kriz/cifar-10-python.tar.gz\n",
      "160849920/170498071 [===========================>..] - ETA: 4s"
     ]
    }
   ],
   "source": [
    "# load the dataset\n",
    "(train_images, train_labels), (test_images, test_labels) = cifar10.load_data()\n",
    "\n",
    "# prepare train and test sets\n",
    "train_images = train_images.astype('float32')\n",
    "test_images = test_images.astype('float32')\n",
    "\n",
    "# normalize values\n",
    "train_images = train_images / 255.0\n",
    "test_images = test_images / 255.0\n",
    "\n",
    "# create pairs on train and test sets\n",
    "tr_pairs, tr_y = create_pairs_on_set(train_images, train_labels)\n",
    "ts_pairs, ts_y = create_pairs_on_set(test_images, test_labels)"
   ]
  },
  {
   "cell_type": "markdown",
   "metadata": {
    "id": "jxzLlHRKoP8t"
   },
   "source": [
    "You can see a sample pair of images below."
   ]
  },
  {
   "cell_type": "code",
   "execution_count": null,
   "metadata": {
    "colab": {
     "base_uri": "https://localhost:8080/",
     "height": 538
    },
    "id": "BhTpANwipLIk",
    "outputId": "b184958a-baba-43e5-f3f0-b5a4a86a7349"
   },
   "outputs": [],
   "source": [
    "# array index\n",
    "this_pair = 8\n",
    "\n",
    "# show images at this index\n",
    "show_image(ts_pairs[this_pair][0])\n",
    "show_image(ts_pairs[this_pair][1])\n",
    "\n",
    "# print the label for this pair\n",
    "print(tr_y[this_pair])"
   ]
  },
  {
   "cell_type": "code",
   "execution_count": null,
   "metadata": {
    "colab": {
     "base_uri": "https://localhost:8080/",
     "height": 1000
    },
    "id": "lbgAYQW0zT_4",
    "outputId": "bbcb8168-565b-4ba7-d211-53c4484b107c"
   },
   "outputs": [],
   "source": [
    "# print other pairs\n",
    "\n",
    "show_image(tr_pairs[:,0][0])\n",
    "show_image(tr_pairs[:,0][1])\n",
    "\n",
    "show_image(tr_pairs[:,1][0])\n",
    "show_image(tr_pairs[:,1][1])"
   ]
  },
  {
   "cell_type": "markdown",
   "metadata": {
    "id": "CepW2-rloP8u"
   },
   "source": [
    "## Build the Model\n",
    "\n",
    "Next, you'll define some utilities for building our model."
   ]
  },
  {
   "cell_type": "code",
   "execution_count": null,
   "metadata": {
    "id": "wMo2HbKLkuAa"
   },
   "outputs": [],
   "source": [
    "def initialize_base_network():\n",
    "    input = Input(shape=(28,28,), name=\"base_input\")\n",
    "    x = Flatten(name=\"flatten_input\")(input)\n",
    "    x = Dense(128, activation='relu', name=\"first_base_dense\")(x)\n",
    "    x = Dropout(0.1, name=\"first_dropout\")(x)\n",
    "    x = Dense(128, activation='relu', name=\"second_base_dense\")(x)\n",
    "    x = Dropout(0.1, name=\"second_dropout\")(x)\n",
    "    x = Dense(128, activation='relu', name=\"third_base_dense\")(x)\n",
    "\n",
    "    return Model(inputs=input, outputs=x)\n",
    "\n",
    "\n",
    "def euclidean_distance(vects):\n",
    "    x, y = vects\n",
    "    sum_square = K.sum(K.square(x - y), axis=1, keepdims=True)\n",
    "    return K.sqrt(K.maximum(sum_square, K.epsilon()))\n",
    "\n",
    "\n",
    "def eucl_dist_output_shape(shapes):\n",
    "    shape1, shape2 = shapes\n",
    "    return (shape1[0], 1)"
   ]
  },
  {
   "cell_type": "markdown",
   "metadata": {
    "id": "BuBiBMtpoP8u"
   },
   "source": [
    "Let's see how our base network looks. This is where the two inputs will pass through to generate an output vector."
   ]
  },
  {
   "cell_type": "code",
   "execution_count": null,
   "metadata": {
    "colab": {
     "base_uri": "https://localhost:8080/",
     "height": 754
    },
    "id": "8FjSLg_LoJAy",
    "outputId": "6713f93c-060b-4ae2-d66c-61653a5007aa"
   },
   "outputs": [],
   "source": [
    "base_network = initialize_base_network()\n"
   ]
  },
  {
   "cell_type": "markdown",
   "metadata": {
    "id": "ra5uWMXVoP8v"
   },
   "source": [
    "Let's now build the Siamese network. The plot will show two inputs going to the base network."
   ]
  },
  {
   "cell_type": "code",
   "execution_count": null,
   "metadata": {
    "colab": {
     "base_uri": "https://localhost:8080/",
     "height": 312
    },
    "id": "Qe4YNz0kkwq5",
    "outputId": "33851f56-e55c-4380-a025-ea54000b3af5"
   },
   "outputs": [],
   "source": [
    "# create the left input and point to the base network\n",
    "input_a = Input(shape=(28,28,), name=\"left_input\")\n",
    "vect_output_a = base_network(input_a)\n",
    "\n",
    "# create the right input and point to the base network\n",
    "input_b = Input(shape=(28,28,), name=\"right_input\")\n",
    "vect_output_b = base_network(input_b)\n",
    "\n",
    "# measure the similarity of the two vector outputs\n",
    "output = Lambda(euclidean_distance, name=\"output_layer\", output_shape=eucl_dist_output_shape)([vect_output_a, vect_output_b])\n",
    "\n",
    "# specify the inputs and output of the model\n",
    "model = Model([input_a, input_b], output)\n",
    "\n",
    "# plot model graph\n"
   ]
  },
  {
   "cell_type": "markdown",
   "metadata": {
    "id": "Y4WsaUJEoP8v"
   },
   "source": [
    "## Train the Model\n",
    "\n",
    "You can now define the custom loss for our network and start training. Don't worry about why it's written as a nested function just yet. You will revisit this in Week 2."
   ]
  },
  {
   "cell_type": "code",
   "execution_count": null,
   "metadata": {
    "id": "HswzRyDAk-V7"
   },
   "outputs": [],
   "source": [
    "def contrastive_loss_with_margin(margin):\n",
    "    def contrastive_loss(y_true, y_pred):\n",
    "        '''Contrastive loss from Hadsell-et-al.'06\n",
    "        http://yann.lecun.com/exdb/publis/pdf/hadsell-chopra-lecun-06.pdf\n",
    "        '''\n",
    "        square_pred = K.square(y_pred)\n",
    "        margin_square = K.square(K.maximum(margin - y_pred, 0))\n",
    "        return K.mean(y_true * square_pred + (1 - y_true) * margin_square)\n",
    "    return contrastive_loss"
   ]
  },
  {
   "cell_type": "code",
   "execution_count": null,
   "metadata": {
    "colab": {
     "base_uri": "https://localhost:8080/"
    },
    "id": "UIGaA9TMlBCc",
    "outputId": "77ddd82d-de2a-4cc3-ebcc-ff0cc9082d9d"
   },
   "outputs": [],
   "source": [
    "rms = RMSprop()\n",
    "model.compile(loss=contrastive_loss_with_margin(margin=1), optimizer=rms)\n",
    "history = model.fit([tr_pairs[:,0], tr_pairs[:,1]], tr_y, epochs=20, batch_size=128, validation_data=([ts_pairs[:,0], ts_pairs[:,1]], ts_y))"
   ]
  },
  {
   "cell_type": "markdown",
   "metadata": {
    "id": "VHo7ZbYFoP8w"
   },
   "source": [
    "## Model Evaluation\n",
    "\n",
    "As usual, you can evaluate our model by computing the accuracy and observing the metrics during training."
   ]
  },
  {
   "cell_type": "code",
   "execution_count": null,
   "metadata": {
    "id": "RYwU4CIhlIE4"
   },
   "outputs": [],
   "source": [
    "def compute_accuracy(y_true, y_pred):\n",
    "    '''Compute classification accuracy with a fixed threshold on distances.\n",
    "    '''\n",
    "    pred = y_pred.ravel() > 0.5\n",
    "    return np.mean(pred == y_true)"
   ]
  },
  {
   "cell_type": "code",
   "execution_count": null,
   "metadata": {
    "colab": {
     "base_uri": "https://localhost:8080/"
    },
    "id": "IyfJWzjYlKMg",
    "outputId": "98caa23b-4fb6-4644-b532-d871ef725a34"
   },
   "outputs": [],
   "source": [
    "loss = model.evaluate(x=[ts_pairs[:,0],ts_pairs[:,1]], y=ts_y)\n",
    "\n",
    "y_pred_train = model.predict([tr_pairs[:,0], tr_pairs[:,1]])\n",
    "train_accuracy = compute_accuracy(tr_y, y_pred_train)\n",
    "\n",
    "y_pred_test = model.predict([ts_pairs[:,0], ts_pairs[:,1]])\n",
    "test_accuracy = compute_accuracy(ts_y, y_pred_test)\n",
    "\n",
    "print(\"Loss = {}, Train Accuracy = {} Test Accuracy = {}\".format(loss, train_accuracy, test_accuracy))"
   ]
  },
  {
   "cell_type": "code",
   "execution_count": null,
   "metadata": {
    "colab": {
     "base_uri": "https://localhost:8080/",
     "height": 281
    },
    "id": "3obxy4EBlMyI",
    "outputId": "9b574959-a74f-44f6-bf9d-475da50e9d41"
   },
   "outputs": [],
   "source": [
    "def plot_metrics(metric_name, title, ylim=5):\n",
    "    plt.title(title)\n",
    "    plt.ylim(0,ylim)\n",
    "    plt.plot(history.history[metric_name],color='blue',label=metric_name)\n",
    "    plt.plot(history.history['val_' + metric_name],color='green',label='val_' + metric_name)\n",
    "\n",
    "\n",
    "plot_metrics(metric_name='loss', title=\"Loss\", ylim=0.2)"
   ]
  },
  {
   "cell_type": "code",
   "execution_count": null,
   "metadata": {
    "id": "E9KLCFiClP9Q"
   },
   "outputs": [],
   "source": [
    "# Matplotlib config\n",
    "def visualize_images():\n",
    "    plt.rc('image', cmap='gray_r')\n",
    "    plt.rc('grid', linewidth=0)\n",
    "    plt.rc('xtick', top=False, bottom=False, labelsize='large')\n",
    "    plt.rc('ytick', left=False, right=False, labelsize='large')\n",
    "    plt.rc('axes', facecolor='F8F8F8', titlesize=\"large\", edgecolor='white')\n",
    "    plt.rc('text', color='a8151a')\n",
    "    plt.rc('figure', facecolor='F0F0F0')# Matplotlib fonts\n",
    "\n",
    "\n",
    "# utility to display a row of digits with their predictions\n",
    "def display_images(left, right, predictions, labels, title, n):\n",
    "    plt.figure(figsize=(17,3))\n",
    "    plt.title(title)\n",
    "    plt.yticks([])\n",
    "    plt.xticks([])\n",
    "    plt.grid(None)\n",
    "    left = np.reshape(left, [n, 28, 28])\n",
    "    left = np.swapaxes(left, 0, 1)\n",
    "    left = np.reshape(left, [28, 28*n])\n",
    "    plt.imshow(left)\n",
    "    plt.figure(figsize=(17,3))\n",
    "    plt.yticks([])\n",
    "    plt.xticks([28*x+14 for x in range(n)], predictions)\n",
    "    for i,t in enumerate(plt.gca().xaxis.get_ticklabels()):\n",
    "        if predictions[i] > 0.5: t.set_color('red') # bad predictions in red\n",
    "    plt.grid(None)\n",
    "    right = np.reshape(right, [n, 28, 28])\n",
    "    right = np.swapaxes(right, 0, 1)\n",
    "    right = np.reshape(right, [28, 28*n])\n",
    "    plt.imshow(right)\n",
    "\n"
   ]
  },
  {
   "cell_type": "markdown",
   "metadata": {
    "id": "aW-eff3koP8y"
   },
   "source": [
    "You can see sample results for 10 pairs of items below."
   ]
  },
  {
   "cell_type": "code",
   "execution_count": null,
   "metadata": {
    "colab": {
     "base_uri": "https://localhost:8080/",
     "height": 270
    },
    "id": "VRxB-Tmemzt9",
    "outputId": "445b725a-a874-4e70-ae13-f11dfc33c35d"
   },
   "outputs": [],
   "source": [
    "y_pred_train = np.squeeze(y_pred_train)\n",
    "indexes = np.random.choice(len(y_pred_train), size=10)\n",
    "display_images(tr_pairs[:, 0][indexes], tr_pairs[:, 1][indexes], y_pred_train[indexes], tr_y[indexes], \"clothes and their dissimilarity\", 10)"
   ]
  },
  {
   "cell_type": "code",
   "execution_count": null,
   "metadata": {},
   "outputs": [],
   "source": []
  }
 ],
 "metadata": {
  "accelerator": "GPU",
  "colab": {
   "include_colab_link": true,
   "name": "Similarity_Fashion_MNIST",
   "provenance": []
  },
  "kernelspec": {
   "display_name": "Python 3",
   "language": "python",
   "name": "python3"
  },
  "language_info": {
   "codemirror_mode": {
    "name": "ipython",
    "version": 3
   },
   "file_extension": ".py",
   "mimetype": "text/x-python",
   "name": "python",
   "nbconvert_exporter": "python",
   "pygments_lexer": "ipython3",
   "version": "3.8.5"
  }
 },
 "nbformat": 4,
 "nbformat_minor": 1
}
